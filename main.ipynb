{
 "cells": [
  {
   "cell_type": "code",
   "execution_count": 32,
   "metadata": {},
   "outputs": [],
   "source": [
    "import pymongo\n",
    "import json\n",
    "import requests\n",
    "import os\n",
    "from dotenv import load_dotenv\n"
   ]
  },
  {
   "cell_type": "code",
   "execution_count": 33,
   "metadata": {},
   "outputs": [],
   "source": [
    "#Loading my Key and database string\n",
    "load_dotenv()\n",
    "API_KEY = os.getenv('KEY')\n",
    "DB_CONNECTION = os.getenv('DB_string')"
   ]
  },
  {
   "cell_type": "code",
   "execution_count": 43,
   "metadata": {},
   "outputs": [],
   "source": [
    "DB_NAME = \"BetMe\"\n",
    "\n",
    "# Establish a connection with mongoDB\n",
    "client = pymongo.MongoClient(DB_CONNECTION)\n",
    "\n",
    "# Create a DB\n",
    "dataBase = client[DB_NAME]"
   ]
  },
  {
   "cell_type": "code",
   "execution_count": 45,
   "metadata": {},
   "outputs": [
    {
     "name": "stdout",
     "output_type": "stream",
     "text": [
      "DB: 'BetMe' not yet present OR no collection is present in the DB\n"
     ]
    }
   ],
   "source": [
    "def checkExistence_DB(DB_NAME, client):\n",
    "    \"\"\"It verifies the existence of DB\"\"\"\n",
    "    DBlist = client.list_database_names()\n",
    "    if DB_NAME in DBlist:\n",
    "        print(f\"DB: '{DB_NAME}' exists\")\n",
    "        return True\n",
    "    print(f\"DB: '{DB_NAME}' not yet present OR no collection is present in the DB\")\n",
    "    return False\n",
    "\n",
    "\n",
    "_ = checkExistence_DB(DB_NAME=DB_NAME, client=client)"
   ]
  },
  {
   "cell_type": "code",
   "execution_count": 48,
   "metadata": {},
   "outputs": [],
   "source": [
    "COLLECTION_NAME = \"All_Sports\"\n",
    "collection = dataBase[COLLECTION_NAME]"
   ]
  },
  {
   "cell_type": "code",
   "execution_count": 49,
   "metadata": {},
   "outputs": [
    {
     "name": "stdout",
     "output_type": "stream",
     "text": [
      "Collection:'All_Sports' in Database:'BetMe' does not exists OR \n",
      "    no documents are present in the collection\n"
     ]
    }
   ],
   "source": [
    "# let's verify whether we have our database in the list or not \n",
    "# we'll use the following function:-\n",
    "\n",
    "def checkExistence_COL(COLLECTION_NAME, DB_NAME, db):\n",
    "    \"\"\"It verifies the existence of collection name in a database\"\"\"\n",
    "    collection_list = db.list_collection_names()\n",
    "    \n",
    "    if COLLECTION_NAME in collection_list:\n",
    "        print(f\"Collection:'{COLLECTION_NAME}' in Database:'{DB_NAME}' exists\")\n",
    "        return True\n",
    "    \n",
    "    print(f\"Collection:'{COLLECTION_NAME}' in Database:'{DB_NAME}' does not exists OR \\n\\\n",
    "    no documents are present in the collection\")\n",
    "    return False\n",
    "\n",
    "\n",
    "_ = checkExistence_COL(COLLECTION_NAME=COLLECTION_NAME, DB_NAME=DB_NAME, db=dataBase)"
   ]
  },
  {
   "cell_type": "code",
   "execution_count": 66,
   "metadata": {},
   "outputs": [],
   "source": [
    "#Creating collection for storing all the available sports\n",
    "\n",
    "Sports = dataBase.create_collection(\"All_Sports\")\n"
   ]
  },
  {
   "cell_type": "code",
   "execution_count": 69,
   "metadata": {},
   "outputs": [],
   "source": [
    "#Getting the data from API\n",
    "\n",
    "def create_all_sports_data():    \n",
    "    try:\n",
    "        request_response = requests.get('https://api.the-odds-api.com/v3/sports', params={\n",
    "        'api_key': API_KEY})\n",
    "     \n",
    "        sports_json = json.loads(request_response.text)\n",
    "        Sports.insert_many(sports_json['data'])   \n",
    "       \n",
    "    except Exception as e:\n",
    "        print(str(e))\n",
    "\n",
    "\n",
    "create_all_sports_data()"
   ]
  },
  {
   "cell_type": "code",
   "execution_count": 70,
   "metadata": {},
   "outputs": [],
   "source": []
  },
  {
   "cell_type": "code",
   "execution_count": null,
   "metadata": {},
   "outputs": [],
   "source": [
    "#Creating collections for all the upcoming games irrespection of region\n",
    "total_in_play = dataBase.create_collection(\"in-play_all_regions\")\n"
   ]
  },
  {
   "cell_type": "code",
   "execution_count": 74,
   "metadata": {},
   "outputs": [],
   "source": [
    "regions = [\"uk\", \"us\", \"eu\", \"au\"]\n",
    "\n",
    "def total_upcoming_sports():\n",
    "    for region in regions:\n",
    "        sport_key = 'upcoming'\n",
    "        try:\n",
    "            odds_response = requests.get('https://api.the-odds-api.com/v3/odds', params={\n",
    "                'api_key': API_KEY,\n",
    "                'sport': sport_key,\n",
    "                'region': regions, \n",
    "                'mkt': 'h2h', \n",
    "                'dateFormat': 'iso'})\n",
    "            \n",
    "            in_play_data = json.loads(odds_response.text)\n",
    "            total_in_play.insert_many(in_play_data['data'])\n",
    "            \n",
    "        except Exception as e:\n",
    "            print(str(e))\n",
    "                \n",
    "\n",
    "total_upcoming_sports()"
   ]
  },
  {
   "cell_type": "code",
   "execution_count": null,
   "metadata": {},
   "outputs": [],
   "source": []
  }
 ],
 "metadata": {
  "kernelspec": {
   "display_name": "Python 3",
   "language": "python",
   "name": "python3"
  },
  "language_info": {
   "codemirror_mode": {
    "name": "ipython",
    "version": 3
   },
   "file_extension": ".py",
   "mimetype": "text/x-python",
   "name": "python",
   "nbconvert_exporter": "python",
   "pygments_lexer": "ipython3",
   "version": "3.7.0"
  }
 },
 "nbformat": 4,
 "nbformat_minor": 2
}
